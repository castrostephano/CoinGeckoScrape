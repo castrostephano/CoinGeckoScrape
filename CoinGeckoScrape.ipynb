{
  "nbformat": 4,
  "nbformat_minor": 0,
  "metadata": {
    "colab": {
      "provenance": [],
      "authorship_tag": "ABX9TyMBdN+zypr/YXQi4TmP3RYV",
      "include_colab_link": true
    },
    "kernelspec": {
      "name": "python3",
      "display_name": "Python 3"
    },
    "language_info": {
      "name": "python"
    }
  },
  "cells": [
    {
      "cell_type": "markdown",
      "metadata": {
        "id": "view-in-github",
        "colab_type": "text"
      },
      "source": [
        "<a href=\"https://colab.research.google.com/github/castrostephano/CoinGeckoScrape/blob/main/CoinGeckoScrape.ipynb\" target=\"_parent\"><img src=\"https://colab.research.google.com/assets/colab-badge.svg\" alt=\"Open In Colab\"/></a>"
      ]
    },
    {
      "cell_type": "code",
      "execution_count": 2,
      "metadata": {
        "id": "06qUquu_oP8d"
      },
      "outputs": [],
      "source": [
        "#I chose these libraries because they are the most widely used webscrapping libraries for extracting data \n",
        "#I chose google colab because it is an easy to use interface that can be used with any computer\n",
        "from bs4 import BeautifulSoup\n",
        "import requests\n",
        "import pandas as pd "
      ]
    },
    {
      "cell_type": "code",
      "source": [
        "#I used this website because it provides its users with accurate data on most cryptocurrencies in the market\n",
        "url = 'https://www.coingecko.com/'\n",
        "response = requests.get(url)"
      ],
      "metadata": {
        "id": "Rerspl1Eobly"
      },
      "execution_count": 3,
      "outputs": []
    },
    {
      "cell_type": "code",
      "source": [
        "soup = BeautifulSoup(response.content, 'html.parser')\n",
        "#I used the inspect tool and found that there is one table (hence find and not find_all) and it was the table-scrollable class\n",
        "#there was one tbody (table body) and several tr's(table rows), hence the find_all \n",
        "results = soup.find('table', {'class': 'table-scrollable'}).find('tbody').find_all('tr')"
      ],
      "metadata": {
        "id": "EUDPiiq7o-Az"
      },
      "execution_count": 4,
      "outputs": []
    },
    {
      "cell_type": "code",
      "source": [
        "#Coin name - I used the inspect tool to find where the coin name text is held\n",
        "#[0] because i just want to grab all of the data points, then loop through the code\n",
        "results[0].find('span',{'class':'lg:tw-flex font-bold tw-items-center tw-justify-between'}).get_text().strip()"
      ],
      "metadata": {
        "id": "qIIv_5v9qw7h",
        "colab": {
          "base_uri": "https://localhost:8080/",
          "height": 35
        },
        "outputId": "dc463747-7fde-476b-8433-333d0d3b163f"
      },
      "execution_count": 5,
      "outputs": [
        {
          "output_type": "execute_result",
          "data": {
            "text/plain": [
              "'Bitcoin'"
            ],
            "application/vnd.google.colaboratory.intrinsic+json": {
              "type": "string"
            }
          },
          "metadata": {},
          "execution_count": 5
        }
      ]
    },
    {
      "cell_type": "code",
      "source": [
        "# Coin Price\n",
        "#inspecting each data point to get the class-technique used for the rest of the values- strip after get text to take out any html near the text\n",
        "results[0].find('td', {'class':'td-price price text-right'}).get_text().strip()"
      ],
      "metadata": {
        "colab": {
          "base_uri": "https://localhost:8080/",
          "height": 35
        },
        "id": "ZxLO4cljdkwh",
        "outputId": "6e83d968-2796-4ff5-e8fe-94d095fba07a"
      },
      "execution_count": 6,
      "outputs": [
        {
          "output_type": "execute_result",
          "data": {
            "text/plain": [
              "'$20,267.87'"
            ],
            "application/vnd.google.colaboratory.intrinsic+json": {
              "type": "string"
            }
          },
          "metadata": {},
          "execution_count": 6
        }
      ]
    },
    {
      "cell_type": "code",
      "source": [
        "# 1Hr\n",
        "results[0].find('td', {'class':'td-change1h change1h stat-percent text-right col-market'}).get_text().strip()"
      ],
      "metadata": {
        "colab": {
          "base_uri": "https://localhost:8080/",
          "height": 35
        },
        "id": "YzWKkVDxfWcF",
        "outputId": "6d7d3dc2-329c-49e3-d298-022a099d45c8"
      },
      "execution_count": 7,
      "outputs": [
        {
          "output_type": "execute_result",
          "data": {
            "text/plain": [
              "'3.1%'"
            ],
            "application/vnd.google.colaboratory.intrinsic+json": {
              "type": "string"
            }
          },
          "metadata": {},
          "execution_count": 7
        }
      ]
    },
    {
      "cell_type": "code",
      "source": [
        "# 24hr\n",
        "results[0].find('td', {'class':'td-change24h change24h stat-percent text-right col-market'}).get_text().strip()"
      ],
      "metadata": {
        "colab": {
          "base_uri": "https://localhost:8080/",
          "height": 35
        },
        "id": "rOYwP7yEfbJr",
        "outputId": "c6f42d8a-cedb-4799-d7ba-e85e57b12c4c"
      },
      "execution_count": 8,
      "outputs": [
        {
          "output_type": "execute_result",
          "data": {
            "text/plain": [
              "'5.3%'"
            ],
            "application/vnd.google.colaboratory.intrinsic+json": {
              "type": "string"
            }
          },
          "metadata": {},
          "execution_count": 8
        }
      ]
    },
    {
      "cell_type": "code",
      "source": [
        "# 7d\n",
        "results[0].find('td', {'class':'td-change7d change7d stat-percent text-right col-market'}).get_text().strip()"
      ],
      "metadata": {
        "colab": {
          "base_uri": "https://localhost:8080/",
          "height": 35
        },
        "id": "QjL-EMGVgDvV",
        "outputId": "4fdd4aae-666d-4d98-d448-7256a5e78d0e"
      },
      "execution_count": 9,
      "outputs": [
        {
          "output_type": "execute_result",
          "data": {
            "text/plain": [
              "'0.6%'"
            ],
            "application/vnd.google.colaboratory.intrinsic+json": {
              "type": "string"
            }
          },
          "metadata": {},
          "execution_count": 9
        }
      ]
    },
    {
      "cell_type": "code",
      "source": [
        "#24hr Volume\n",
        "results[0].find('td', {'class':'td-liquidity_score lit text-right col-market'}).get_text().strip()"
      ],
      "metadata": {
        "colab": {
          "base_uri": "https://localhost:8080/",
          "height": 35
        },
        "id": "yh2DaAT-flTk",
        "outputId": "56f70664-3d28-4a4c-847d-086949b500f6"
      },
      "execution_count": 10,
      "outputs": [
        {
          "output_type": "execute_result",
          "data": {
            "text/plain": [
              "'$29,157,924,972'"
            ],
            "application/vnd.google.colaboratory.intrinsic+json": {
              "type": "string"
            }
          },
          "metadata": {},
          "execution_count": 10
        }
      ]
    },
    {
      "cell_type": "code",
      "source": [
        "#Market Cap\n",
        "results[0].find('td', {'class':'td-market_cap cap col-market cap-price text-right'}).get_text().strip()"
      ],
      "metadata": {
        "colab": {
          "base_uri": "https://localhost:8080/",
          "height": 35
        },
        "id": "y1Ggg4EVfrdD",
        "outputId": "6a57b86c-a3d5-48d7-c046-e1054bcf3ce5"
      },
      "execution_count": 11,
      "outputs": [
        {
          "output_type": "execute_result",
          "data": {
            "text/plain": [
              "'$387,953,896,237'"
            ],
            "application/vnd.google.colaboratory.intrinsic+json": {
              "type": "string"
            }
          },
          "metadata": {},
          "execution_count": 11
        }
      ]
    },
    {
      "cell_type": "code",
      "source": [
        "#create empty lists to append to while looping\n",
        "\n",
        "name = []\n",
        "price = []\n",
        "change_1h = []\n",
        "change_24h = []\n",
        "change_7d = []\n",
        "volume_24h = []\n",
        "market_cap = []\n",
        "\n",
        "\n"
      ],
      "metadata": {
        "id": "ytjxtnZ1h099"
      },
      "execution_count": 12,
      "outputs": []
    },
    {
      "cell_type": "code",
      "source": [
        "#Create a for loop to append all of the data points into the empty lists created above, using the same code from above\n",
        "#(n/a) just in case it does not find a value\n",
        "\n",
        "for result in results:\n",
        "  try:\n",
        "    name.append(result.find('span',{'class':'lg:tw-flex font-bold tw-items-center tw-justify-between'}).get_text().strip())\n",
        "  except:\n",
        "    name.append('n/a')\n",
        "  try:\n",
        "    price.append(result.find('td', {'class':'td-price price text-right'}).get_text().strip())\n",
        "  except:\n",
        "    price.append('n/a')\n",
        "  try:\n",
        "    change_1h.append(result.find('td', {'class':'td-change1h change1h stat-percent text-right col-market'}).get_text().strip())\n",
        "  except:\n",
        "    change_1h.append('n/a')\n",
        "  try:\n",
        "    change_24h.append(result.find('td', {'class':'td-change24h change24h stat-percent text-right col-market'}).get_text().strip())\n",
        "  except:\n",
        "    change_24h.append('n/a')\n",
        "  try:\n",
        "    change_7d.append(result.find('td', {'class':'td-change7d change7d stat-percent text-right col-market'}).get_text().strip())\n",
        "  except:\n",
        "    change_7d.append('n/a')\n",
        "  try:\n",
        "    volume_24h.append(result.find('td', {'class':'td-liquidity_score lit text-right col-market'}).get_text().strip())\n",
        "  except:\n",
        "    volume_24h.append('n/a')\n",
        "  try:\n",
        "    market_cap.append(result.find('td', {'class':'td-market_cap cap col-market cap-price text-right'}).get_text().strip())\n",
        "  except:\n",
        "    market_cap.append('n/a')\n",
        "      "
      ],
      "metadata": {
        "id": "HEbwJa-ujFQm"
      },
      "execution_count": 13,
      "outputs": []
    },
    {
      "cell_type": "code",
      "source": [
        "#create database with pandas- set up the columns inside of a dictionary {} with the first value in quotes as the column title, a colon :, and the value as the data in the rows\n",
        "\n",
        "crypto_df = pd.DataFrame({'Coin':name,'Price':price,'Change_1h':change_1h,'Change_24h':change_24h,'Change_7d':change_7d, 'Volume_24h':volume_24h, 'Market Cap': market_cap})\n"
      ],
      "metadata": {
        "id": "u3_ZwsfCk8PI"
      },
      "execution_count": null,
      "outputs": []
    },
    {
      "cell_type": "code",
      "source": [
        "#paginate through the first ten pages with another for loop\n",
        "#If you wanted to get the data for 50 pages, then the range would be (1,51)\n",
        "\n",
        "\n",
        "name = []\n",
        "price = []\n",
        "change_1h = []\n",
        "change_24h = []\n",
        "change_7d = []\n",
        "volume_24h = []\n",
        "market_cap = []\n",
        "\n",
        "#creating another for loop to paginate through using the range function\n",
        "for i in range (1,11):\n",
        "\n",
        "  #concatenated with the numbers 1-10 in the loop through the i, which is what is iterating through the loop. need to make it a string, hence the str\n",
        "  #after this edit to the code, everything else below is the same as above\n",
        "  website = 'https://www.coingecko.com/?page=' + str(i)\n",
        "\n",
        "  response = requests.get(website)\n",
        "\n",
        "  soup = BeautifulSoup(response.content, 'html.parser')\n",
        "\n",
        "  results = soup.find('table', {'class': 'table-scrollable'}).find('tbody').find_all('tr')\n",
        "\n",
        "  for result in results:\n",
        "    try:\n",
        "      name.append(result.find('span',{'class':'lg:tw-flex font-bold tw-items-center tw-justify-between'}).get_text().strip())\n",
        "    except:\n",
        "      name.append('n/a')\n",
        "    try:\n",
        "      price.append(result.find('td', {'class':'td-price price text-right'}).get_text().strip())\n",
        "    except:\n",
        "      price.append('n/a')\n",
        "    try:\n",
        "      change_1h.append(result.find('td', {'class':'td-change1h change1h stat-percent text-right col-market'}).get_text().strip())\n",
        "    except:\n",
        "      change_1h.append('n/a')\n",
        "    try:\n",
        "      change_24h.append(result.find('td', {'class':'td-change24h change24h stat-percent text-right col-market'}).get_text().strip())\n",
        "    except:\n",
        "      change_24h.append('n/a')\n",
        "    try:\n",
        "      change_7d.append(result.find('td', {'class':'td-change7d change7d stat-percent text-right col-market'}).get_text().strip())\n",
        "    except:\n",
        "      change_7d.append('n/a')\n",
        "    try:\n",
        "      volume_24h.append(result.find('td', {'class':'td-liquidity_score lit text-right col-market'}).get_text().strip())\n",
        "    except:\n",
        "      volume_24h.append('n/a')\n",
        "    try:\n",
        "      market_cap.append(result.find('td', {'class':'td-market_cap cap col-market cap-price text-right'}).get_text().strip())\n",
        "    except:\n",
        "      market_cap.append('n/a')"
      ],
      "metadata": {
        "id": "7zNUQAX9_bWI"
      },
      "execution_count": 15,
      "outputs": []
    },
    {
      "cell_type": "code",
      "source": [
        "#The larger dataframe with 1000 rows, instead of 100 rows, has been created\n",
        "crypto_df = pd.DataFrame({'coin':name,'price':price,'change_1h':change_1h,'change_24h':change_24h,'change_7d':change_7d, 'volume_24h':volume_24h, 'market_cap': market_cap})\n",
        "crypto_df"
      ],
      "metadata": {
        "colab": {
          "base_uri": "https://localhost:8080/",
          "height": 424
        },
        "id": "02acQnSSBuVQ",
        "outputId": "85d4145e-d262-41d3-ab7f-61df903a398a"
      },
      "execution_count": 16,
      "outputs": [
        {
          "output_type": "execute_result",
          "data": {
            "text/plain": [
              "                 coin            price change_1h change_24h change_7d  \\\n",
              "0             Bitcoin       $20,267.87      3.1%       5.3%      0.6%   \n",
              "1            Ethereum        $1,691.01      2.0%       3.1%      6.4%   \n",
              "2              Tether            $1.00      0.2%       0.2%      0.1%   \n",
              "3            USD Coin            $1.00     -0.2%       0.3%      0.3%   \n",
              "4                 BNB          $288.14      1.3%       2.9%      3.3%   \n",
              "..                ...              ...       ...        ...       ...   \n",
              "995           Dollars            $1.63         ?          ?         ?   \n",
              "996       Cornucopias  $0.012798670335      1.2%      10.2%      6.6%   \n",
              "997           Scallop        $0.196558      1.1%      -0.4%     -3.1%   \n",
              "998              NAGA        $0.100069     -0.4%      12.7%     13.2%   \n",
              "999  Mad Viking Games  $0.001428860168     -0.0%      20.1%     53.8%   \n",
              "\n",
              "          volume_24h        market_cap  \n",
              "0    $29,157,924,972  $387,953,896,237  \n",
              "1    $17,566,605,851  $203,635,116,244  \n",
              "2    $43,204,087,197   $67,733,654,987  \n",
              "3     $6,027,846,227   $51,864,197,507  \n",
              "4       $648,296,045   $46,998,778,786  \n",
              "..               ...               ...  \n",
              "995                ?        $7,844,731  \n",
              "996         $128,001        $7,840,660  \n",
              "997         $197,630        $7,819,941  \n",
              "998         $205,425        $7,808,516  \n",
              "999         $237,560        $7,793,779  \n",
              "\n",
              "[1000 rows x 7 columns]"
            ],
            "text/html": [
              "\n",
              "  <div id=\"df-5c37c8b9-9bb0-42f2-aec8-05367a0cf45e\">\n",
              "    <div class=\"colab-df-container\">\n",
              "      <div>\n",
              "<style scoped>\n",
              "    .dataframe tbody tr th:only-of-type {\n",
              "        vertical-align: middle;\n",
              "    }\n",
              "\n",
              "    .dataframe tbody tr th {\n",
              "        vertical-align: top;\n",
              "    }\n",
              "\n",
              "    .dataframe thead th {\n",
              "        text-align: right;\n",
              "    }\n",
              "</style>\n",
              "<table border=\"1\" class=\"dataframe\">\n",
              "  <thead>\n",
              "    <tr style=\"text-align: right;\">\n",
              "      <th></th>\n",
              "      <th>coin</th>\n",
              "      <th>price</th>\n",
              "      <th>change_1h</th>\n",
              "      <th>change_24h</th>\n",
              "      <th>change_7d</th>\n",
              "      <th>volume_24h</th>\n",
              "      <th>market_cap</th>\n",
              "    </tr>\n",
              "  </thead>\n",
              "  <tbody>\n",
              "    <tr>\n",
              "      <th>0</th>\n",
              "      <td>Bitcoin</td>\n",
              "      <td>$20,267.87</td>\n",
              "      <td>3.1%</td>\n",
              "      <td>5.3%</td>\n",
              "      <td>0.6%</td>\n",
              "      <td>$29,157,924,972</td>\n",
              "      <td>$387,953,896,237</td>\n",
              "    </tr>\n",
              "    <tr>\n",
              "      <th>1</th>\n",
              "      <td>Ethereum</td>\n",
              "      <td>$1,691.01</td>\n",
              "      <td>2.0%</td>\n",
              "      <td>3.1%</td>\n",
              "      <td>6.4%</td>\n",
              "      <td>$17,566,605,851</td>\n",
              "      <td>$203,635,116,244</td>\n",
              "    </tr>\n",
              "    <tr>\n",
              "      <th>2</th>\n",
              "      <td>Tether</td>\n",
              "      <td>$1.00</td>\n",
              "      <td>0.2%</td>\n",
              "      <td>0.2%</td>\n",
              "      <td>0.1%</td>\n",
              "      <td>$43,204,087,197</td>\n",
              "      <td>$67,733,654,987</td>\n",
              "    </tr>\n",
              "    <tr>\n",
              "      <th>3</th>\n",
              "      <td>USD Coin</td>\n",
              "      <td>$1.00</td>\n",
              "      <td>-0.2%</td>\n",
              "      <td>0.3%</td>\n",
              "      <td>0.3%</td>\n",
              "      <td>$6,027,846,227</td>\n",
              "      <td>$51,864,197,507</td>\n",
              "    </tr>\n",
              "    <tr>\n",
              "      <th>4</th>\n",
              "      <td>BNB</td>\n",
              "      <td>$288.14</td>\n",
              "      <td>1.3%</td>\n",
              "      <td>2.9%</td>\n",
              "      <td>3.3%</td>\n",
              "      <td>$648,296,045</td>\n",
              "      <td>$46,998,778,786</td>\n",
              "    </tr>\n",
              "    <tr>\n",
              "      <th>...</th>\n",
              "      <td>...</td>\n",
              "      <td>...</td>\n",
              "      <td>...</td>\n",
              "      <td>...</td>\n",
              "      <td>...</td>\n",
              "      <td>...</td>\n",
              "      <td>...</td>\n",
              "    </tr>\n",
              "    <tr>\n",
              "      <th>995</th>\n",
              "      <td>Dollars</td>\n",
              "      <td>$1.63</td>\n",
              "      <td>?</td>\n",
              "      <td>?</td>\n",
              "      <td>?</td>\n",
              "      <td>?</td>\n",
              "      <td>$7,844,731</td>\n",
              "    </tr>\n",
              "    <tr>\n",
              "      <th>996</th>\n",
              "      <td>Cornucopias</td>\n",
              "      <td>$0.012798670335</td>\n",
              "      <td>1.2%</td>\n",
              "      <td>10.2%</td>\n",
              "      <td>6.6%</td>\n",
              "      <td>$128,001</td>\n",
              "      <td>$7,840,660</td>\n",
              "    </tr>\n",
              "    <tr>\n",
              "      <th>997</th>\n",
              "      <td>Scallop</td>\n",
              "      <td>$0.196558</td>\n",
              "      <td>1.1%</td>\n",
              "      <td>-0.4%</td>\n",
              "      <td>-3.1%</td>\n",
              "      <td>$197,630</td>\n",
              "      <td>$7,819,941</td>\n",
              "    </tr>\n",
              "    <tr>\n",
              "      <th>998</th>\n",
              "      <td>NAGA</td>\n",
              "      <td>$0.100069</td>\n",
              "      <td>-0.4%</td>\n",
              "      <td>12.7%</td>\n",
              "      <td>13.2%</td>\n",
              "      <td>$205,425</td>\n",
              "      <td>$7,808,516</td>\n",
              "    </tr>\n",
              "    <tr>\n",
              "      <th>999</th>\n",
              "      <td>Mad Viking Games</td>\n",
              "      <td>$0.001428860168</td>\n",
              "      <td>-0.0%</td>\n",
              "      <td>20.1%</td>\n",
              "      <td>53.8%</td>\n",
              "      <td>$237,560</td>\n",
              "      <td>$7,793,779</td>\n",
              "    </tr>\n",
              "  </tbody>\n",
              "</table>\n",
              "<p>1000 rows × 7 columns</p>\n",
              "</div>\n",
              "      <button class=\"colab-df-convert\" onclick=\"convertToInteractive('df-5c37c8b9-9bb0-42f2-aec8-05367a0cf45e')\"\n",
              "              title=\"Convert this dataframe to an interactive table.\"\n",
              "              style=\"display:none;\">\n",
              "        \n",
              "  <svg xmlns=\"http://www.w3.org/2000/svg\" height=\"24px\"viewBox=\"0 0 24 24\"\n",
              "       width=\"24px\">\n",
              "    <path d=\"M0 0h24v24H0V0z\" fill=\"none\"/>\n",
              "    <path d=\"M18.56 5.44l.94 2.06.94-2.06 2.06-.94-2.06-.94-.94-2.06-.94 2.06-2.06.94zm-11 1L8.5 8.5l.94-2.06 2.06-.94-2.06-.94L8.5 2.5l-.94 2.06-2.06.94zm10 10l.94 2.06.94-2.06 2.06-.94-2.06-.94-.94-2.06-.94 2.06-2.06.94z\"/><path d=\"M17.41 7.96l-1.37-1.37c-.4-.4-.92-.59-1.43-.59-.52 0-1.04.2-1.43.59L10.3 9.45l-7.72 7.72c-.78.78-.78 2.05 0 2.83L4 21.41c.39.39.9.59 1.41.59.51 0 1.02-.2 1.41-.59l7.78-7.78 2.81-2.81c.8-.78.8-2.07 0-2.86zM5.41 20L4 18.59l7.72-7.72 1.47 1.35L5.41 20z\"/>\n",
              "  </svg>\n",
              "      </button>\n",
              "      \n",
              "  <style>\n",
              "    .colab-df-container {\n",
              "      display:flex;\n",
              "      flex-wrap:wrap;\n",
              "      gap: 12px;\n",
              "    }\n",
              "\n",
              "    .colab-df-convert {\n",
              "      background-color: #E8F0FE;\n",
              "      border: none;\n",
              "      border-radius: 50%;\n",
              "      cursor: pointer;\n",
              "      display: none;\n",
              "      fill: #1967D2;\n",
              "      height: 32px;\n",
              "      padding: 0 0 0 0;\n",
              "      width: 32px;\n",
              "    }\n",
              "\n",
              "    .colab-df-convert:hover {\n",
              "      background-color: #E2EBFA;\n",
              "      box-shadow: 0px 1px 2px rgba(60, 64, 67, 0.3), 0px 1px 3px 1px rgba(60, 64, 67, 0.15);\n",
              "      fill: #174EA6;\n",
              "    }\n",
              "\n",
              "    [theme=dark] .colab-df-convert {\n",
              "      background-color: #3B4455;\n",
              "      fill: #D2E3FC;\n",
              "    }\n",
              "\n",
              "    [theme=dark] .colab-df-convert:hover {\n",
              "      background-color: #434B5C;\n",
              "      box-shadow: 0px 1px 3px 1px rgba(0, 0, 0, 0.15);\n",
              "      filter: drop-shadow(0px 1px 2px rgba(0, 0, 0, 0.3));\n",
              "      fill: #FFFFFF;\n",
              "    }\n",
              "  </style>\n",
              "\n",
              "      <script>\n",
              "        const buttonEl =\n",
              "          document.querySelector('#df-5c37c8b9-9bb0-42f2-aec8-05367a0cf45e button.colab-df-convert');\n",
              "        buttonEl.style.display =\n",
              "          google.colab.kernel.accessAllowed ? 'block' : 'none';\n",
              "\n",
              "        async function convertToInteractive(key) {\n",
              "          const element = document.querySelector('#df-5c37c8b9-9bb0-42f2-aec8-05367a0cf45e');\n",
              "          const dataTable =\n",
              "            await google.colab.kernel.invokeFunction('convertToInteractive',\n",
              "                                                     [key], {});\n",
              "          if (!dataTable) return;\n",
              "\n",
              "          const docLinkHtml = 'Like what you see? Visit the ' +\n",
              "            '<a target=\"_blank\" href=https://colab.research.google.com/notebooks/data_table.ipynb>data table notebook</a>'\n",
              "            + ' to learn more about interactive tables.';\n",
              "          element.innerHTML = '';\n",
              "          dataTable['output_type'] = 'display_data';\n",
              "          await google.colab.output.renderOutput(dataTable, element);\n",
              "          const docLink = document.createElement('div');\n",
              "          docLink.innerHTML = docLinkHtml;\n",
              "          element.appendChild(docLink);\n",
              "        }\n",
              "      </script>\n",
              "    </div>\n",
              "  </div>\n",
              "  "
            ]
          },
          "metadata": {},
          "execution_count": 16
        }
      ]
    },
    {
      "cell_type": "code",
      "source": [
        "##Send dataframe to a csv file\n",
        "crypto_df.to_csv('crypto_multiple_pages.csv', index = False)"
      ],
      "metadata": {
        "id": "mNMGQ1TgdNu1"
      },
      "execution_count": 17,
      "outputs": []
    }
  ]
}