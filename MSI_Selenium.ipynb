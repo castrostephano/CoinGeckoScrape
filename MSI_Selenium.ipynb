{
  "nbformat": 4,
  "nbformat_minor": 0,
  "metadata": {
    "colab": {
      "provenance": [],
      "authorship_tag": "ABX9TyOfd6+xO6vIZNHokhjACnDg",
      "include_colab_link": true
    },
    "kernelspec": {
      "name": "python3",
      "display_name": "Python 3"
    },
    "language_info": {
      "name": "python"
    }
  },
  "cells": [
    {
      "cell_type": "markdown",
      "metadata": {
        "id": "view-in-github",
        "colab_type": "text"
      },
      "source": [
        "<a href=\"https://colab.research.google.com/github/castrostephano/CoinGeckoScrape/blob/main/MSI_Selenium.ipynb\" target=\"_parent\"><img src=\"https://colab.research.google.com/assets/colab-badge.svg\" alt=\"Open In Colab\"/></a>"
      ]
    },
    {
      "cell_type": "code",
      "execution_count": null,
      "metadata": {
        "id": "iiWmwnbrukMq"
      },
      "outputs": [],
      "source": [
        "import selenium\n",
        "from selenium import webdriver\n",
        "from selenium.webdriver.common.by import By\n",
        "from selenium.webdriver.common.keys import Keys\n",
        "import time\n",
        "import glob\n",
        "import os\n",
        "import pandas as pd\n",
        "from xlsxwriter import Workbook\n",
        "import chromedriver_binary\n",
        "\n",
        "AccountString_List = [{'Account_Number':'00','Account_Name': 'Budget_22'}]\n",
        "\n",
        "\n",
        "for i in AccountString_List:\n",
        "\n",
        "    PATH = (r\"PathToYour\\chromedriver.exe\")\n",
        "    driver = webdriver.Chrome(PATH)\n",
        "    url = \"http://msi.co.somerset.nj.us/SystemLogin.htm\"\n",
        "    driver.get(url)\n",
        "\n",
        "    ## Login Screen\n",
        "    #User ID and password provided by MSI\n",
        "    user = driver.find_element(By.ID, \"User\")\n",
        "    user.send_keys(\"userID#\")\n",
        "    user.send_keys(Keys.RETURN)\n",
        "    time.sleep(0)\n",
        "    password = driver.find_element(By.ID, \"Password\")\n",
        "    password.send_keys(\"password\")\n",
        "    time.sleep(0)\n",
        "    button = driver.find_element(By.ID, \"Submit1\").click()\n",
        "    time.sleep(1)\n",
        "\n",
        "    ## Home Screen\n",
        "    # find the frame using id\n",
        "    frame = driver.find_element(By.XPATH,\"//frame[@id='_MAIN']\")\n",
        "    time.sleep(1)\n",
        "    # switch the webdriver object to the iframe.\n",
        "    driver.switch_to.frame(frame)\n",
        "    #Click on report\n",
        "    report = driver.find_element(By.XPATH,\"//*[@id='menutable']/tbody/tr/td[7]\").click()\n",
        "    time.sleep(1)\n",
        "\n",
        "\n",
        "    #Click on Account Activity Report - Choose Report Type\n",
        "    AccountActivity = driver.find_element(By.XPATH,\"//b[contains(.,'Budget Balance Report')]\").click()\n",
        "    time.sleep(1)\n",
        "    #Click on Account String Box\n",
        "    AccountString = driver.find_element(By.XPATH,\"//input[@id='AccountStart']\")\n",
        "    #Type in Account String\n",
        "    AccountString.send_keys(i['Account_Number'])\n",
        "    time.sleep(2)\n",
        "    #Check off print revenue accounts (it's checked my default)\n",
        "    CheckRevAccount= driver.find_element(By.XPATH, \"//input[@id='WithRev']\").click()\n",
        "    time.sleep(2)\n",
        "    #Check off print with sub-accounts (it's checked my default)\n",
        "    CheckSubAccount= driver.find_element(By.XPATH, \"//input[@name='WithSub']\").click()\n",
        "    time.sleep(2)\n",
        "\n",
        "\n",
        "    #Run report\n",
        "    ActivityReport= driver.find_element(By.XPATH, \"//input[@name='GetReport']\").click()\n",
        "    time.sleep(2)\n",
        "    DownloadReport = driver.find_element(By.XPATH, \"//a[contains(text(),'Click here to save/view CSV (Excel) Version')]\").click()\n",
        "    time.sleep(2)\n",
        "\n",
        "    #Grab csv file from download folder\n",
        "    List_of_Files = glob.glob(r'H:\\Downloads\\*.csv')\n",
        "    latest_file = max(List_of_Files,default=None, key=os.path.getctime)\n",
        "\n",
        "    #Turn csv into dataframe using pandas, skipping the extra rows at the top and bottom of report\n",
        "    df = pd.read_csv(latest_file, on_bad_lines=\"skip\", engine = 'python',encoding= 'unicode_escape',skiprows=6)\n",
        "\n",
        "    # axis is 0 because we are referring to rows- would be 1 if columns, labels =1 is the index value\n",
        "    # and inplace false because we want a result returned, not just to alter the db\n",
        "    df = df.drop(axis=0, labels=1, inplace=False)\n",
        "\n",
        "    # Use excel writer to convert the csv into an excel worksheet and save it in a folder\n",
        "    with pd.ExcelWriter(f'FolderPath\\{i[\"Account_Name\"]}.xlsx', engine='xlsxwriter') as writer:\n",
        "        df.to_excel(writer)\n",
        "\n",
        "driver.quit\n"
      ]
    }
  ]
}